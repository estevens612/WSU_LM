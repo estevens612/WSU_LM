{
 "cells": [
  {
   "cell_type": "markdown",
   "metadata": {},
   "source": [
    "# **SOAR Data Cleaning**"
   ]
  },
  {
   "cell_type": "code",
   "execution_count": 1,
   "metadata": {},
   "outputs": [],
   "source": [
    "import pandas as pd # import pandas library"
   ]
  },
  {
   "cell_type": "code",
   "execution_count": 17,
   "metadata": {},
   "outputs": [
    {
     "data": {
      "text/html": [
       "<div>\n",
       "<style scoped>\n",
       "    .dataframe tbody tr th:only-of-type {\n",
       "        vertical-align: middle;\n",
       "    }\n",
       "\n",
       "    .dataframe tbody tr th {\n",
       "        vertical-align: top;\n",
       "    }\n",
       "\n",
       "    .dataframe thead th {\n",
       "        text-align: right;\n",
       "    }\n",
       "</style>\n",
       "<table border=\"1\" class=\"dataframe\">\n",
       "  <thead>\n",
       "    <tr style=\"text-align: right;\">\n",
       "      <th></th>\n",
       "      <th>Author</th>\n",
       "      <th>Title</th>\n",
       "      <th>Subject</th>\n",
       "      <th>Abstract</th>\n",
       "      <th>Date</th>\n",
       "      <th>Department</th>\n",
       "      <th>Publisher</th>\n",
       "      <th>Relation</th>\n",
       "      <th>Sponsorship</th>\n",
       "      <th>Language</th>\n",
       "      <th>Type</th>\n",
       "      <th>ID</th>\n",
       "      <th>Random value</th>\n",
       "    </tr>\n",
       "  </thead>\n",
       "  <tbody>\n",
       "    <tr>\n",
       "      <th>0</th>\n",
       "      <td>Rimmington, Glyn M.</td>\n",
       "      <td>Effects of added organic matter and water on s...</td>\n",
       "      <td>Fine-root, Growth, Climate-change, Microbial a...</td>\n",
       "      <td>It is generally predicted that global warming ...</td>\n",
       "      <td>2013.0</td>\n",
       "      <td>NaN</td>\n",
       "      <td>PLoS ONE</td>\n",
       "      <td>PLoS ONE;v.8:no.7:article no.e70224</td>\n",
       "      <td>China National Key Basic Research Program (200...</td>\n",
       "      <td>en_US</td>\n",
       "      <td>Article</td>\n",
       "      <td>NaN</td>\n",
       "      <td>0.743792</td>\n",
       "    </tr>\n",
       "    <tr>\n",
       "      <th>1</th>\n",
       "      <td>Miles, William</td>\n",
       "      <td>Do inflation targeting handcuffs restrain levi...</td>\n",
       "      <td>Exchange-rates</td>\n",
       "      <td>Inflation targeting has been increasingly adop...</td>\n",
       "      <td>2007.0</td>\n",
       "      <td>NaN</td>\n",
       "      <td>Taylor &amp; Francis</td>\n",
       "      <td>Applied Economics Letters;v.14:no.9</td>\n",
       "      <td>NaN</td>\n",
       "      <td>en_USen_US</td>\n",
       "      <td>Article</td>\n",
       "      <td>NaN</td>\n",
       "      <td>0.604875</td>\n",
       "    </tr>\n",
       "    <tr>\n",
       "      <th>2</th>\n",
       "      <td>Stoyanov, Stanislav R.</td>\n",
       "      <td>Computational and spectroscopic studies of Re(...</td>\n",
       "      <td>NaN</td>\n",
       "      <td>Density Functional Theory (DFT) calculations p...</td>\n",
       "      <td>2005.0</td>\n",
       "      <td>NaN</td>\n",
       "      <td>American Chemical Society</td>\n",
       "      <td>Journal of Chemical Theory and Computation;v.1...</td>\n",
       "      <td>NaN</td>\n",
       "      <td>en_US</td>\n",
       "      <td>Article</td>\n",
       "      <td>NaN</td>\n",
       "      <td>0.918749</td>\n",
       "    </tr>\n",
       "    <tr>\n",
       "      <th>3</th>\n",
       "      <td>Prodromou, Theodosia</td>\n",
       "      <td>Integrating mathematics and science to explain...</td>\n",
       "      <td>Educational comics, Socioscientific issues, Sc...</td>\n",
       "      <td>Integrating socioscientific issues (SSI) into ...</td>\n",
       "      <td>2023.0</td>\n",
       "      <td>NaN</td>\n",
       "      <td>Routledge</td>\n",
       "      <td>Journal of Graphic Novels and Comics</td>\n",
       "      <td>This publication received support from the Joh...</td>\n",
       "      <td>en-USen-US</td>\n",
       "      <td>Article</td>\n",
       "      <td>NaN</td>\n",
       "      <td>0.445301</td>\n",
       "    </tr>\n",
       "    <tr>\n",
       "      <th>4</th>\n",
       "      <td>Hanna, K. M.</td>\n",
       "      <td>Effect of nurse-client transaction on female a...</td>\n",
       "      <td>Clinical Trial, Randomized Controlled Trial, A...</td>\n",
       "      <td>An experimental study was conducted to test th...</td>\n",
       "      <td>1993.0</td>\n",
       "      <td>Wichita State University. School of Nursing</td>\n",
       "      <td>Wiley-Blackwell Publishing</td>\n",
       "      <td>Image--The Journal of Nursing Scholarship||Ima...</td>\n",
       "      <td>NaN</td>\n",
       "      <td>eng</td>\n",
       "      <td>Article</td>\n",
       "      <td>NaN</td>\n",
       "      <td>0.595009</td>\n",
       "    </tr>\n",
       "  </tbody>\n",
       "</table>\n",
       "</div>"
      ],
      "text/plain": [
       "                   Author                                              Title  \\\n",
       "0     Rimmington, Glyn M.  Effects of added organic matter and water on s...   \n",
       "1          Miles, William  Do inflation targeting handcuffs restrain levi...   \n",
       "2  Stoyanov, Stanislav R.  Computational and spectroscopic studies of Re(...   \n",
       "3    Prodromou, Theodosia  Integrating mathematics and science to explain...   \n",
       "4            Hanna, K. M.  Effect of nurse-client transaction on female a...   \n",
       "\n",
       "                                             Subject  \\\n",
       "0  Fine-root, Growth, Climate-change, Microbial a...   \n",
       "1                                     Exchange-rates   \n",
       "2                                                NaN   \n",
       "3  Educational comics, Socioscientific issues, Sc...   \n",
       "4  Clinical Trial, Randomized Controlled Trial, A...   \n",
       "\n",
       "                                            Abstract    Date  \\\n",
       "0  It is generally predicted that global warming ...  2013.0   \n",
       "1  Inflation targeting has been increasingly adop...  2007.0   \n",
       "2  Density Functional Theory (DFT) calculations p...  2005.0   \n",
       "3  Integrating socioscientific issues (SSI) into ...  2023.0   \n",
       "4  An experimental study was conducted to test th...  1993.0   \n",
       "\n",
       "                                    Department                   Publisher  \\\n",
       "0                                          NaN                    PLoS ONE   \n",
       "1                                          NaN            Taylor & Francis   \n",
       "2                                          NaN   American Chemical Society   \n",
       "3                                          NaN                   Routledge   \n",
       "4  Wichita State University. School of Nursing  Wiley-Blackwell Publishing   \n",
       "\n",
       "                                            Relation  \\\n",
       "0                PLoS ONE;v.8:no.7:article no.e70224   \n",
       "1                Applied Economics Letters;v.14:no.9   \n",
       "2  Journal of Chemical Theory and Computation;v.1...   \n",
       "3               Journal of Graphic Novels and Comics   \n",
       "4  Image--The Journal of Nursing Scholarship||Ima...   \n",
       "\n",
       "                                         Sponsorship    Language     Type  \\\n",
       "0  China National Key Basic Research Program (200...       en_US  Article   \n",
       "1                                                NaN  en_USen_US  Article   \n",
       "2                                                NaN       en_US  Article   \n",
       "3  This publication received support from the Joh...  en-USen-US  Article   \n",
       "4                                                NaN         eng  Article   \n",
       "\n",
       "    ID  Random value  \n",
       "0  NaN      0.743792  \n",
       "1  NaN      0.604875  \n",
       "2  NaN      0.918749  \n",
       "3  NaN      0.445301  \n",
       "4  NaN      0.595009  "
      ]
     },
     "execution_count": 17,
     "metadata": {},
     "output_type": "execute_result"
    }
   ],
   "source": [
    "# grab and print the merged soar dataset\n",
    "df = pd.read_csv('SOARdata_merged9.csv')\n",
    "df.head()"
   ]
  },
  {
   "cell_type": "code",
   "execution_count": 23,
   "metadata": {},
   "outputs": [
    {
     "data": {
      "text/html": [
       "<div>\n",
       "<style scoped>\n",
       "    .dataframe tbody tr th:only-of-type {\n",
       "        vertical-align: middle;\n",
       "    }\n",
       "\n",
       "    .dataframe tbody tr th {\n",
       "        vertical-align: top;\n",
       "    }\n",
       "\n",
       "    .dataframe thead th {\n",
       "        text-align: right;\n",
       "    }\n",
       "</style>\n",
       "<table border=\"1\" class=\"dataframe\">\n",
       "  <thead>\n",
       "    <tr style=\"text-align: right;\">\n",
       "      <th></th>\n",
       "      <th>Author</th>\n",
       "      <th>Title</th>\n",
       "      <th>Subject</th>\n",
       "      <th>Abstract</th>\n",
       "      <th>Date</th>\n",
       "      <th>Department</th>\n",
       "      <th>Publisher</th>\n",
       "      <th>Relation</th>\n",
       "      <th>Sponsorship</th>\n",
       "      <th>Language</th>\n",
       "      <th>Type</th>\n",
       "      <th>ID</th>\n",
       "      <th>Random value</th>\n",
       "    </tr>\n",
       "  </thead>\n",
       "  <tbody>\n",
       "    <tr>\n",
       "      <th>0</th>\n",
       "      <td>Rimmington, Glyn M.</td>\n",
       "      <td>Effects of added organic matter and water on s...</td>\n",
       "      <td>Fine-root, Growth, Climate-change, Microbial a...</td>\n",
       "      <td>It is generally predicted that global warming ...</td>\n",
       "      <td>2013.0</td>\n",
       "      <td>NaN</td>\n",
       "      <td>PLoS ONE</td>\n",
       "      <td>PLoS ONE;v.8:no.7:article no.e70224</td>\n",
       "      <td>China National Key Basic Research Program (200...</td>\n",
       "      <td>en_US</td>\n",
       "      <td>Article</td>\n",
       "      <td>NaN</td>\n",
       "      <td>0.743792</td>\n",
       "    </tr>\n",
       "    <tr>\n",
       "      <th>1</th>\n",
       "      <td>Miles, William</td>\n",
       "      <td>Do inflation targeting handcuffs restrain levi...</td>\n",
       "      <td>Exchange-rates</td>\n",
       "      <td>Inflation targeting has been increasingly adop...</td>\n",
       "      <td>2007.0</td>\n",
       "      <td>NaN</td>\n",
       "      <td>Taylor &amp; Francis</td>\n",
       "      <td>Applied Economics Letters;v.14:no.9</td>\n",
       "      <td>NaN</td>\n",
       "      <td>en_USen_US</td>\n",
       "      <td>Article</td>\n",
       "      <td>NaN</td>\n",
       "      <td>0.604875</td>\n",
       "    </tr>\n",
       "    <tr>\n",
       "      <th>2</th>\n",
       "      <td>Stoyanov, Stanislav R.</td>\n",
       "      <td>Computational and spectroscopic studies of Re(...</td>\n",
       "      <td>NaN</td>\n",
       "      <td>Density Functional Theory (DFT) calculations p...</td>\n",
       "      <td>2005.0</td>\n",
       "      <td>NaN</td>\n",
       "      <td>American Chemical Society</td>\n",
       "      <td>Journal of Chemical Theory and Computation;v.1...</td>\n",
       "      <td>NaN</td>\n",
       "      <td>en_US</td>\n",
       "      <td>Article</td>\n",
       "      <td>NaN</td>\n",
       "      <td>0.918749</td>\n",
       "    </tr>\n",
       "    <tr>\n",
       "      <th>3</th>\n",
       "      <td>Prodromou, Theodosia</td>\n",
       "      <td>Integrating mathematics and science to explain...</td>\n",
       "      <td>Educational comics, Socioscientific issues, Sc...</td>\n",
       "      <td>Integrating socioscientific issues (SSI) into ...</td>\n",
       "      <td>2023.0</td>\n",
       "      <td>NaN</td>\n",
       "      <td>Routledge</td>\n",
       "      <td>Journal of Graphic Novels and Comics</td>\n",
       "      <td>This publication received support from the Joh...</td>\n",
       "      <td>en-USen-US</td>\n",
       "      <td>Article</td>\n",
       "      <td>NaN</td>\n",
       "      <td>0.445301</td>\n",
       "    </tr>\n",
       "    <tr>\n",
       "      <th>4</th>\n",
       "      <td>Hanna, K. M.</td>\n",
       "      <td>Effect of nurse-client transaction on female a...</td>\n",
       "      <td>Clinical Trial, Randomized Controlled Trial, A...</td>\n",
       "      <td>An experimental study was conducted to test th...</td>\n",
       "      <td>1993.0</td>\n",
       "      <td>Wichita State University. School of Nursing</td>\n",
       "      <td>Wiley-Blackwell Publishing</td>\n",
       "      <td>Image--The Journal of Nursing Scholarship||Ima...</td>\n",
       "      <td>NaN</td>\n",
       "      <td>eng</td>\n",
       "      <td>Article</td>\n",
       "      <td>NaN</td>\n",
       "      <td>0.595009</td>\n",
       "    </tr>\n",
       "  </tbody>\n",
       "</table>\n",
       "</div>"
      ],
      "text/plain": [
       "                   Author                                              Title  \\\n",
       "0     Rimmington, Glyn M.  Effects of added organic matter and water on s...   \n",
       "1          Miles, William  Do inflation targeting handcuffs restrain levi...   \n",
       "2  Stoyanov, Stanislav R.  Computational and spectroscopic studies of Re(...   \n",
       "3    Prodromou, Theodosia  Integrating mathematics and science to explain...   \n",
       "4            Hanna, K. M.  Effect of nurse-client transaction on female a...   \n",
       "\n",
       "                                             Subject  \\\n",
       "0  Fine-root, Growth, Climate-change, Microbial a...   \n",
       "1                                     Exchange-rates   \n",
       "2                                                NaN   \n",
       "3  Educational comics, Socioscientific issues, Sc...   \n",
       "4  Clinical Trial, Randomized Controlled Trial, A...   \n",
       "\n",
       "                                            Abstract    Date  \\\n",
       "0  It is generally predicted that global warming ...  2013.0   \n",
       "1  Inflation targeting has been increasingly adop...  2007.0   \n",
       "2  Density Functional Theory (DFT) calculations p...  2005.0   \n",
       "3  Integrating socioscientific issues (SSI) into ...  2023.0   \n",
       "4  An experimental study was conducted to test th...  1993.0   \n",
       "\n",
       "                                    Department                   Publisher  \\\n",
       "0                                          NaN                    PLoS ONE   \n",
       "1                                          NaN            Taylor & Francis   \n",
       "2                                          NaN   American Chemical Society   \n",
       "3                                          NaN                   Routledge   \n",
       "4  Wichita State University. School of Nursing  Wiley-Blackwell Publishing   \n",
       "\n",
       "                                            Relation  \\\n",
       "0                PLoS ONE;v.8:no.7:article no.e70224   \n",
       "1                Applied Economics Letters;v.14:no.9   \n",
       "2  Journal of Chemical Theory and Computation;v.1...   \n",
       "3               Journal of Graphic Novels and Comics   \n",
       "4  Image--The Journal of Nursing Scholarship||Ima...   \n",
       "\n",
       "                                         Sponsorship    Language     Type  \\\n",
       "0  China National Key Basic Research Program (200...       en_US  Article   \n",
       "1                                                NaN  en_USen_US  Article   \n",
       "2                                                NaN       en_US  Article   \n",
       "3  This publication received support from the Joh...  en-USen-US  Article   \n",
       "4                                                NaN         eng  Article   \n",
       "\n",
       "    ID  Random value  \n",
       "0  NaN      0.743792  \n",
       "1  NaN      0.604875  \n",
       "2  NaN      0.918749  \n",
       "3  NaN      0.445301  \n",
       "4  NaN      0.595009  "
      ]
     },
     "execution_count": 23,
     "metadata": {},
     "output_type": "execute_result"
    }
   ],
   "source": [
    "df.head() #Viewing the head of the dataframe"
   ]
  },
  {
   "cell_type": "markdown",
   "metadata": {},
   "source": [
    "Notice how in above dataset the dates columns use different formats, and some of the values in the Language column have 'en_US' duplicated (see row 5861). We should figure out how to make those values more consistent and nice - that's what I mean by data cleaning."
   ]
  },
  {
   "cell_type": "markdown",
   "metadata": {},
   "source": [
    "## Print column names - we can go over which to keep/merge and remove"
   ]
  },
  {
   "cell_type": "code",
   "execution_count": 22,
   "metadata": {},
   "outputs": [
    {
     "name": "stdout",
     "output_type": "stream",
     "text": [
      "Author\n",
      "Title\n",
      "Subject\n",
      "Abstract\n",
      "Date\n",
      "Department\n",
      "Publisher\n",
      "Relation\n",
      "Sponsorship\n",
      "Language\n",
      "Type\n",
      "ID\n",
      "Random value\n"
     ]
    }
   ],
   "source": [
    "# print out all column names\n",
    "for col in df.columns:\n",
    "    print(col)"
   ]
  },
  {
   "cell_type": "code",
   "execution_count": 24,
   "metadata": {},
   "outputs": [
    {
     "name": "stdout",
     "output_type": "stream",
     "text": [
      "<class 'pandas.core.series.Series'>\n",
      "RangeIndex: 20114 entries, 0 to 20113\n",
      "Series name: Date\n",
      "Non-Null Count  Dtype  \n",
      "--------------  -----  \n",
      "20113 non-null  float64\n",
      "dtypes: float64(1)\n",
      "memory usage: 157.3 KB\n"
     ]
    }
   ],
   "source": [
    "df.Date.info() #Getting info on a specific column"
   ]
  },
  {
   "cell_type": "code",
   "execution_count": 25,
   "metadata": {},
   "outputs": [
    {
     "data": {
      "text/plain": [
       "array(['Rimmington, Glyn M.', 'Miles, William', 'Stoyanov, Stanislav R.',\n",
       "       ..., 'Setlur, R.V.', 'Ricke, Steven C.', 'Gayle, J.'], dtype=object)"
      ]
     },
     "execution_count": 25,
     "metadata": {},
     "output_type": "execute_result"
    }
   ],
   "source": [
    "df['Author'].unique() #Check how many unique entries are in a column and what they are"
   ]
  },
  {
   "cell_type": "code",
   "execution_count": 26,
   "metadata": {},
   "outputs": [
    {
     "data": {
      "text/plain": [
       "(20114, 13)"
      ]
     },
     "execution_count": 26,
     "metadata": {},
     "output_type": "execute_result"
    }
   ],
   "source": [
    "df.shape # print the number of rows and columns"
   ]
  },
  {
   "cell_type": "code",
   "execution_count": 27,
   "metadata": {},
   "outputs": [
    {
     "data": {
      "text/plain": [
       "Author           object\n",
       "Title            object\n",
       "Subject          object\n",
       "Abstract         object\n",
       "Date            float64\n",
       "Department       object\n",
       "Publisher        object\n",
       "Relation         object\n",
       "Sponsorship      object\n",
       "Language         object\n",
       "Type             object\n",
       "ID               object\n",
       "Random value    float64\n",
       "dtype: object"
      ]
     },
     "execution_count": 27,
     "metadata": {},
     "output_type": "execute_result"
    }
   ],
   "source": [
    "df.dtypes # print the data type of each column"
   ]
  },
  {
   "cell_type": "code",
   "execution_count": null,
   "metadata": {},
   "outputs": [],
   "source": [
    "# merge all language-related columns\n",
    "lang_cols = ['dc.language.iso[spa]','dc.language.iso','dc.language.iso[]','dc.language.iso','dc.language.iso[en]', 'dc.language.iso[en_US]', 'dc.language[]']\n",
    "\n",
    "def merge_columns(row):\n",
    "    merged_values = ''\n",
    "    for col in lang_cols:\n",
    "        if pd.notnull(row[col]):\n",
    "            merged_values += str(row[col])\n",
    "    return merged_values\n",
    "\n",
    "df['Language'] = df.apply(lambda row: merge_columns(row), axis=1)\n",
    "df = df.drop(columns=lang_cols)\n",
    "df.head()"
   ]
  },
  {
   "cell_type": "code",
   "execution_count": null,
   "metadata": {},
   "outputs": [],
   "source": [
    "# filter to only deal with english publication\n",
    "eng_filter = ['en_US', 'en-US', 'eng_US', 'en-USen-US', 'en_USen_US', 'en','eng']\n",
    "df = df[df['Language'].isin(eng_filter)]"
   ]
  },
  {
   "cell_type": "code",
   "execution_count": null,
   "metadata": {},
   "outputs": [],
   "source": [
    "df.dropna(how='all', axis=1, inplace=True) #drop empty columns\n",
    "df"
   ]
  },
  {
   "cell_type": "code",
   "execution_count": null,
   "metadata": {},
   "outputs": [],
   "source": [
    "#Creating a new column equal to another one and then deleting the old one to effectively rename it\n",
    "df['dc.publisher'] = df['dc.publisher[en]']"
   ]
  },
  {
   "cell_type": "code",
   "execution_count": null,
   "metadata": {},
   "outputs": [],
   "source": [
    "#notNaCount checks for overlap in non-null entries between two columns\n",
    "notNaCount = (df['dc.subject'].notna() & df['dc.subject.classification'].notna()).sum()\n",
    "print(notNaCount)"
   ]
  },
  {
   "cell_type": "code",
   "execution_count": null,
   "metadata": {},
   "outputs": [],
   "source": [
    "#checking the number of non-null entries in a single column\n",
    "notNaCount2 = (df['dc.date'].notna()).sum()\n",
    "print(notNaCount2)"
   ]
  },
  {
   "cell_type": "code",
   "execution_count": null,
   "metadata": {},
   "outputs": [],
   "source": [
    "#fillna can be used to automatically fill nan entries in one column with non-nan entries (if they exist) from another column\n",
    "df['dc.subject'] = df['dc.subject'].fillna(df['dc.subject.classification'])"
   ]
  },
  {
   "cell_type": "code",
   "execution_count": 24,
   "metadata": {},
   "outputs": [],
   "source": [
    "#The column passed into fillna can then be dropped, assuming any rows that have values in both columns have been accounted for. \n",
    "df = df.drop(columns=['Random value'])"
   ]
  },
  {
   "cell_type": "code",
   "execution_count": null,
   "metadata": {},
   "outputs": [],
   "source": [
    "#unusualCells and unusualCells2 are used when two similar columns have different results for one or more entries\n",
    "unusualCells = df[df['dc.subject'].notna() & df['dc.subject.classification'].notna()]"
   ]
  },
  {
   "cell_type": "code",
   "execution_count": null,
   "metadata": {},
   "outputs": [],
   "source": [
    "unusualCells2 = unusualCells[['dc.subject', 'dc.subject.classification']] #Narrowing down unusualCells to only the relevant columns"
   ]
  },
  {
   "cell_type": "code",
   "execution_count": null,
   "metadata": {},
   "outputs": [],
   "source": [
    "unusualCells2 #Viewing unusualcells2"
   ]
  },
  {
   "cell_type": "code",
   "execution_count": null,
   "metadata": {},
   "outputs": [],
   "source": [
    "#Code for manually concatenating two values, done using indices obtained by viewing unusualCells2\n",
    "df.at[5637,'dc.subject'] = df.at[5637,'dc.subject[en]'] + \"||\" + df.at[5637,'dc.subject']"
   ]
  },
  {
   "cell_type": "code",
   "execution_count": null,
   "metadata": {},
   "outputs": [],
   "source": [
    "#Print code used to check the results of manually editing a value\n",
    "print(df.at[4636,'dc.description.sponsorship'])"
   ]
  },
  {
   "cell_type": "code",
   "execution_count": null,
   "metadata": {},
   "outputs": [],
   "source": [
    "#For loop to automatically concenatenate two fields\n",
    "for i in unusualCells2.index:\n",
    "    df.at[i,'dc.subject'] = df.at[i,'dc.subject'] + \"||\" + df.at[i,'dc.subject.classification']"
   ]
  },
  {
   "cell_type": "code",
   "execution_count": 19,
   "metadata": {},
   "outputs": [],
   "source": [
    "for i in df.index: #This cell was used for reformatting the Date column to only hold years.\n",
    "    if isinstance(df.at[i, 'Date'], str):\n",
    "        if df.at[i, 'Date'].find(\"/\", 3) > 0:\n",
    "            df.at[i, 'Date'] = df.at[i, 'Date'][df.at[i, 'Date'].find(\"/\", 3) + 1:]\n",
    "#This cell can be changed to fix either the M/D/Y format or the Y-M format"
   ]
  },
  {
   "cell_type": "code",
   "execution_count": 9,
   "metadata": {},
   "outputs": [],
   "source": [
    "for i in df.index: #This code is used to change the delimiter formatting in Author and Subject columns\n",
    "    if isinstance(df.at[i, 'Author'], str):\n",
    "        df.at[i, 'Author'] = df.at[i, 'Author'].replace(\"||\", \"|\")\n",
    "#For Author, the double pipe was changed into a single pipe which was later eliminated with the split operation\n",
    "#For Subject, the double pipe was changed into a comma and space"
   ]
  },
  {
   "cell_type": "code",
   "execution_count": 12,
   "metadata": {},
   "outputs": [],
   "source": [
    "df.Author = df.Author.str.split(pat='|') #Used to make each Author cell a List of strings"
   ]
  },
  {
   "cell_type": "code",
   "execution_count": 13,
   "metadata": {},
   "outputs": [],
   "source": [
    "#Once Author is a List of strings, we can call the explode function to make every row contain only one author\n",
    "df = df.explode('Author', True)"
   ]
  },
  {
   "cell_type": "code",
   "execution_count": 32,
   "metadata": {},
   "outputs": [],
   "source": [
    "#Splitting a large dataframe into smaller subsets\n",
    "#Before splitting, the order of columns was randomized using Microsoft Excel\n",
    "df1 = df.iloc[0:4000]"
   ]
  },
  {
   "cell_type": "code",
   "execution_count": 33,
   "metadata": {},
   "outputs": [],
   "source": [
    "df2 = df.iloc[4000:8000] #Same process as above\n",
    "df3 = df.iloc[8000:12000]\n",
    "df4 = df.iloc[12000:16000]\n",
    "df5 = df.iloc[16000:]"
   ]
  },
  {
   "cell_type": "code",
   "execution_count": 38,
   "metadata": {},
   "outputs": [
    {
     "name": "stdout",
     "output_type": "stream",
     "text": [
      "<class 'pandas.core.frame.DataFrame'>\n",
      "RangeIndex: 4114 entries, 16000 to 20113\n",
      "Data columns (total 12 columns):\n",
      " #   Column       Non-Null Count  Dtype  \n",
      "---  ------       --------------  -----  \n",
      " 0   Author       4114 non-null   object \n",
      " 1   Title        4114 non-null   object \n",
      " 2   Subject      3367 non-null   object \n",
      " 3   Abstract     3869 non-null   object \n",
      " 4   Date         4114 non-null   float64\n",
      " 5   Department   519 non-null    object \n",
      " 6   Publisher    4020 non-null   object \n",
      " 7   Relation     4016 non-null   object \n",
      " 8   Sponsorship  1308 non-null   object \n",
      " 9   Language     4114 non-null   object \n",
      " 10  Type         4111 non-null   object \n",
      " 11  ID           139 non-null    object \n",
      "dtypes: float64(1), object(11)\n",
      "memory usage: 385.8+ KB\n"
     ]
    }
   ],
   "source": [
    "df5.info() #Getting info on a newly-split dataframe"
   ]
  },
  {
   "cell_type": "code",
   "execution_count": 15,
   "metadata": {},
   "outputs": [],
   "source": [
    "# export result as csv\n",
    "df.to_csv('SOARdata_test.csv',index=False)"
   ]
  },
  {
   "cell_type": "code",
   "execution_count": 39,
   "metadata": {},
   "outputs": [],
   "source": [
    "df1.to_csv('SOARdata_cleaned_set1.csv',index=False) #Exporting multiple results as csv\n",
    "df2.to_csv('SOARdata_cleaned_set2.csv',index=False)\n",
    "df3.to_csv('SOARdata_cleaned_set3.csv',index=False)\n",
    "df4.to_csv('SOARdata_cleaned_set4.csv',index=False)\n",
    "df5.to_csv('SOARdata_cleaned_set5.csv',index=False)"
   ]
  }
 ],
 "metadata": {
  "kernelspec": {
   "display_name": "Python 3",
   "language": "python",
   "name": "python3"
  },
  "language_info": {
   "codemirror_mode": {
    "name": "ipython",
    "version": 3
   },
   "file_extension": ".py",
   "mimetype": "text/x-python",
   "name": "python",
   "nbconvert_exporter": "python",
   "pygments_lexer": "ipython3",
   "version": "3.11.9"
  },
  "polyglot_notebook": {
   "kernelInfo": {
    "defaultKernelName": "csharp",
    "items": [
     {
      "aliases": [],
      "name": "csharp"
     }
    ]
   }
  }
 },
 "nbformat": 4,
 "nbformat_minor": 2
}
